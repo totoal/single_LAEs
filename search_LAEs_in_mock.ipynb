{
 "cells": [
  {
   "cell_type": "code",
   "execution_count": null,
   "metadata": {},
   "outputs": [],
   "source": [
    "import numpy as np\n",
    "from LAEs.my_functions import *\n",
    "from LAEs.add_errors import add_errors\n",
    "from load_single_cats import load_SFG_mock\n",
    "\n",
    "w_central = central_wavelength()\n",
    "fwhm_Arr = nb_fwhm(np.arange(60))\n",
    "w_lya = 1215.67"
   ]
  },
  {
   "cell_type": "code",
   "execution_count": null,
   "metadata": {},
   "outputs": [],
   "source": [
    "sfg_mock_name = 'LAE_12.5deg_z2-4.25_train_jnep_VUDS_deep_0'\n",
    "mock = load_SFG_mock(sfg_mock_name)\n",
    "\n",
    "pm_flx = mock.to_numpy().T[:60]\n",
    "pm_flx, pm_err = add_errors(pm_flx)\n",
    "\n",
    "i_mag = flux_to_mag(pm_flx[-1], w_central[-1])\n",
    "r_mag = flux_to_mag(pm_flx[-2], w_central[-2])\n",
    "g_mag = flux_to_mag(pm_flx[-3], w_central[-3])\n",
    "for m_Arr in [i_mag, r_mag, g_mag]:\n",
    "    m_Arr[np.isnan(m_Arr)] = 99.\n",
    "\n",
    "N_sources = len(i_mag)"
   ]
  },
  {
   "cell_type": "code",
   "execution_count": null,
   "metadata": {},
   "outputs": [],
   "source": [
    "# Continuum estimate\n",
    "from LAEs.minijpas_LF_and_puricomp import nb_or_3fm_cont\n",
    "cont_est_flx, cont_est_err = nb_or_3fm_cont(pm_flx, pm_err, 'nb')[:2]"
   ]
  },
  {
   "cell_type": "code",
   "execution_count": null,
   "metadata": {},
   "outputs": [],
   "source": [
    "def dual_selection_NB_candidates(nb, n_sigma=3, ew0_min=30):\n",
    "    '''\n",
    "    Function that pre-selects LAE candidates in a dual-mode catalog.\n",
    "    Inputs:\n",
    "    nb_flx: J-fluxes for that NB (shape = N)\n",
    "    nb_err: J-flux errors for that NB (shape = N)\n",
    "    bb_flx: Fluxes of the BBs (shape = 3xN)\n",
    "    bb_err: Error flxues of the BBs (shape = 3xN)\n",
    "\n",
    "    Selection criteria:\n",
    "    1. n_sigma detection NB\n",
    "    2. No BB detection (g, r, i)\n",
    "    3. 30 A EW0\n",
    "    '''\n",
    "    nb_flx = pm_flx[nb]\n",
    "    nb_err = pm_err[nb]\n",
    "    bb_flx = pm_flx[-2]\n",
    "    bb_err = pm_err[-2]\n",
    "    nb_cont_flx = cont_est_flx[nb]\n",
    "    nb_cont_err = cont_est_err[nb]\n",
    "\n",
    "    line_flx = nb_flx - nb_cont_flx\n",
    "    line_err = (nb_err ** 2 + nb_cont_err ** 2) ** 0.5\n",
    "    n_sigma_detect = line_flx > n_sigma * line_err\n",
    "\n",
    "    no_bb_detect = (bb_flx / bb_err < 5)#.prod(axis=0).astype(bool)\n",
    "\n",
    "    EW0_lya = line_flx * fwhm_Arr[nb] / nb_cont_flx\n",
    "    EW0_lya_cut = EW0_lya > ew0_min\n",
    "\n",
    "    detection = n_sigma_detect & EW0_lya_cut\n",
    "\n",
    "    return detection"
   ]
  },
  {
   "cell_type": "code",
   "execution_count": null,
   "metadata": {},
   "outputs": [],
   "source": [
    "nbs_list = np.arange(1, 25)\n",
    "n_sigma = 4\n",
    "ew0_min = 50\n",
    "\n",
    "Lya_cands = np.zeros(N_sources).astype(bool)\n",
    "nb_Arr = np.ones_like(Lya_cands).astype(int) * -1\n",
    "for nb_i in nbs_list:\n",
    "    this_Lya_cands = dual_selection_NB_candidates(nb_i, n_sigma, ew0_min)\n",
    "    Lya_cands = this_Lya_cands | Lya_cands\n",
    "\n",
    "    nb_Arr[this_Lya_cands] = nb_i\n",
    "\n",
    "z_Arr = np.ones(N_sources) * -1\n",
    "z_Arr[np.where(nb_Arr > 0)] = z_NB(nb_Arr[nb_Arr > 0])\n",
    "\n",
    "nice_z = np.abs(z_Arr - mock['z']) < 0.16\n",
    "\n",
    "N_cands = sum(Lya_cands)\n",
    "N_nice_z = sum(nice_z)\n",
    "print(N_cands, f'({N_cands / 400:0.2f} deg^-2)')\n",
    "print(N_nice_z, f'({N_nice_z / 400:0.2f} deg^-2), {N_nice_z / N_cands * 100:0.1f}%')"
   ]
  },
  {
   "cell_type": "code",
   "execution_count": null,
   "metadata": {},
   "outputs": [],
   "source": [
    "L_Arr = EW_L_NB(pm_flx, pm_err, cont_est_flx, cont_est_err, z_Arr, nb_Arr)[2]"
   ]
  },
  {
   "cell_type": "code",
   "execution_count": null,
   "metadata": {},
   "outputs": [],
   "source": [
    "selection = np.where(Lya_cands)[0]\n",
    "\n",
    "for i, src in enumerate(selection):\n",
    "    if i == 10:\n",
    "        break\n",
    "    \n",
    "    print(f'i = {i_mag[src]:0.1f}, r = {r_mag[src]:0.1f}, g = {g_mag[src]:0.1f}')\n",
    "    print(f'L_lya = {mock[\"L_lya\"][src]:0.2f}, EW0 = {mock[\"EW0\"][src]:0.2f}')\n",
    "    print(f'L_Arr = {L_Arr[src]:0.2f}')\n",
    "    print(f'z_spec = {mock[\"z\"][src]:0.2f}, z_NB = {z_NB(nb_Arr[src])[0]:0.2f}')\n",
    "\n",
    "    fig = plt.figure(figsize=(7, 3))\n",
    "\n",
    "    ax = plot_JPAS_source(pm_flx[:, src], pm_err[:, src])\n",
    "    ax.axvline(w_central[nb_Arr[src]], ls='--', c='r')\n",
    "    ax.axvline((mock['z'][src] + 1) * w_lya, ls='--', c='gray')\n",
    "\n",
    "    plt.show()"
   ]
  },
  {
   "cell_type": "code",
   "execution_count": null,
   "metadata": {},
   "outputs": [],
   "source": [
    "fig, ax = plt.subplots(figsize=(5, 4))\n",
    "\n",
    "ax.scatter(mock['L_lya'][nice_z], L_Arr[nice_z], s=2)\n",
    "ax.plot([0, 100], [0, 100], ls='--', c='r', zorder=-99)\n",
    "ax.set_xlim(42.5, 44)\n",
    "ax.set_ylim(42.5, 44)\n",
    "\n",
    "\n",
    "plt.show()"
   ]
  }
 ],
 "metadata": {
  "kernelspec": {
   "display_name": "base",
   "language": "python",
   "name": "python3"
  },
  "language_info": {
   "codemirror_mode": {
    "name": "ipython",
    "version": 3
   },
   "file_extension": ".py",
   "mimetype": "text/x-python",
   "name": "python",
   "nbconvert_exporter": "python",
   "pygments_lexer": "ipython3",
   "version": "3.9.15"
  },
  "orig_nbformat": 4,
  "vscode": {
   "interpreter": {
    "hash": "ade4bca3e0042e0da78fecdb82351169c0f2ccedb06a0d7cf7342df8f7e47af7"
   }
  }
 },
 "nbformat": 4,
 "nbformat_minor": 2
}
